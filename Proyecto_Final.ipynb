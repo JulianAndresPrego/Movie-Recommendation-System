{
 "cells": [
  {
   "cell_type": "markdown",
   "id": "39bb0eaa",
   "metadata": {
    "id": "a520ffdc"
   },
   "source": [
    "# Movie Recomendation System"
   ]
  },
  {
   "cell_type": "code",
   "execution_count": 1,
   "id": "a4099a5f",
   "metadata": {
    "executionInfo": {
     "elapsed": 835,
     "status": "ok",
     "timestamp": 1701794347135,
     "user": {
      "displayName": "Julián Andrés Prego",
      "userId": "00181364774626352870"
     },
     "user_tz": -60
    },
    "id": "0cfebfe6"
   },
   "outputs": [],
   "source": [
    "# Import the necessary libraries for data manipulation and graphical visualization\n",
    "import pandas as pd\n",
    "import numpy as np\n",
    "import matplotlib.pyplot as plt"
   ]
  },
  {
   "cell_type": "code",
   "execution_count": 2,
   "id": "4fcbc005",
   "metadata": {},
   "outputs": [],
   "source": [
    "#Read the files\n",
    "movies=pd.read_csv(\"tmdb_5000_movies.csv\")\n",
    "credits=pd.read_csv(\"tmdb_5000_credits.csv\")"
   ]
  },
  {
   "cell_type": "code",
   "execution_count": 3,
   "id": "3da34176",
   "metadata": {
    "colab": {
     "base_uri": "https://localhost:8080/"
    },
    "executionInfo": {
     "elapsed": 17259,
     "status": "ok",
     "timestamp": 1701794652442,
     "user": {
      "displayName": "Julián Andrés Prego",
      "userId": "00181364774626352870"
     },
     "user_tz": -60
    },
    "id": "ds3DTzkd3MxX",
    "outputId": "2c49232b-b64a-4c64-8850-f4f0ae517da3"
   },
   "outputs": [],
   "source": [
    "#from google.colab import drive\n",
    "\n",
    "# Monta Google Drive\n",
    "#drive.mount('/content/drive')"
   ]
  },
  {
   "cell_type": "code",
   "execution_count": 4,
   "id": "7ee8733c",
   "metadata": {
    "executionInfo": {
     "elapsed": 2397,
     "status": "ok",
     "timestamp": 1701794658196,
     "user": {
      "displayName": "Julián Andrés Prego",
      "userId": "00181364774626352870"
     },
     "user_tz": -60
    },
    "id": "63f2fcf5"
   },
   "outputs": [],
   "source": [
    "#Read the files\n",
    "#movies=pd.read_csv(\"/content/drive/MyDrive/Massive/tmdb_5000_movies.csv\")\n",
    "#credits=pd.read_csv(\"/content/drive/MyDrive/Massive/tmdb_5000_credits.csv\")"
   ]
  },
  {
   "cell_type": "code",
   "execution_count": 5,
   "id": "8eaafb30",
   "metadata": {
    "colab": {
     "base_uri": "https://localhost:8080/",
     "height": 730
    },
    "executionInfo": {
     "elapsed": 517,
     "status": "ok",
     "timestamp": 1701794662966,
     "user": {
      "displayName": "Julián Andrés Prego",
      "userId": "00181364774626352870"
     },
     "user_tz": -60
    },
    "id": "a0e0700a",
    "outputId": "3e9939d6-021b-45d7-fc28-8beec30fb0d8"
   },
   "outputs": [
    {
     "data": {
      "text/html": [
       "<div>\n",
       "<style scoped>\n",
       "    .dataframe tbody tr th:only-of-type {\n",
       "        vertical-align: middle;\n",
       "    }\n",
       "\n",
       "    .dataframe tbody tr th {\n",
       "        vertical-align: top;\n",
       "    }\n",
       "\n",
       "    .dataframe thead th {\n",
       "        text-align: right;\n",
       "    }\n",
       "</style>\n",
       "<table border=\"1\" class=\"dataframe\">\n",
       "  <thead>\n",
       "    <tr style=\"text-align: right;\">\n",
       "      <th></th>\n",
       "      <th>budget</th>\n",
       "      <th>genres</th>\n",
       "      <th>homepage</th>\n",
       "      <th>id</th>\n",
       "      <th>keywords</th>\n",
       "      <th>original_language</th>\n",
       "      <th>original_title</th>\n",
       "      <th>overview</th>\n",
       "      <th>popularity</th>\n",
       "      <th>production_companies</th>\n",
       "      <th>production_countries</th>\n",
       "      <th>release_date</th>\n",
       "      <th>revenue</th>\n",
       "      <th>runtime</th>\n",
       "      <th>spoken_languages</th>\n",
       "      <th>status</th>\n",
       "      <th>tagline</th>\n",
       "      <th>title</th>\n",
       "      <th>vote_average</th>\n",
       "      <th>vote_count</th>\n",
       "    </tr>\n",
       "  </thead>\n",
       "  <tbody>\n",
       "    <tr>\n",
       "      <th>0</th>\n",
       "      <td>237000000</td>\n",
       "      <td>[{\"id\": 28, \"name\": \"Action\"}, {\"id\": 12, \"nam...</td>\n",
       "      <td>http://www.avatarmovie.com/</td>\n",
       "      <td>19995</td>\n",
       "      <td>[{\"id\": 1463, \"name\": \"culture clash\"}, {\"id\":...</td>\n",
       "      <td>en</td>\n",
       "      <td>Avatar</td>\n",
       "      <td>In the 22nd century, a paraplegic Marine is di...</td>\n",
       "      <td>150.437577</td>\n",
       "      <td>[{\"name\": \"Ingenious Film Partners\", \"id\": 289...</td>\n",
       "      <td>[{\"iso_3166_1\": \"US\", \"name\": \"United States o...</td>\n",
       "      <td>2009-12-10</td>\n",
       "      <td>2787965087</td>\n",
       "      <td>162.0</td>\n",
       "      <td>[{\"iso_639_1\": \"en\", \"name\": \"English\"}, {\"iso...</td>\n",
       "      <td>Released</td>\n",
       "      <td>Enter the World of Pandora.</td>\n",
       "      <td>Avatar</td>\n",
       "      <td>7.2</td>\n",
       "      <td>11800</td>\n",
       "    </tr>\n",
       "    <tr>\n",
       "      <th>1</th>\n",
       "      <td>300000000</td>\n",
       "      <td>[{\"id\": 12, \"name\": \"Adventure\"}, {\"id\": 14, \"...</td>\n",
       "      <td>http://disney.go.com/disneypictures/pirates/</td>\n",
       "      <td>285</td>\n",
       "      <td>[{\"id\": 270, \"name\": \"ocean\"}, {\"id\": 726, \"na...</td>\n",
       "      <td>en</td>\n",
       "      <td>Pirates of the Caribbean: At World's End</td>\n",
       "      <td>Captain Barbossa, long believed to be dead, ha...</td>\n",
       "      <td>139.082615</td>\n",
       "      <td>[{\"name\": \"Walt Disney Pictures\", \"id\": 2}, {\"...</td>\n",
       "      <td>[{\"iso_3166_1\": \"US\", \"name\": \"United States o...</td>\n",
       "      <td>2007-05-19</td>\n",
       "      <td>961000000</td>\n",
       "      <td>169.0</td>\n",
       "      <td>[{\"iso_639_1\": \"en\", \"name\": \"English\"}]</td>\n",
       "      <td>Released</td>\n",
       "      <td>At the end of the world, the adventure begins.</td>\n",
       "      <td>Pirates of the Caribbean: At World's End</td>\n",
       "      <td>6.9</td>\n",
       "      <td>4500</td>\n",
       "    </tr>\n",
       "    <tr>\n",
       "      <th>2</th>\n",
       "      <td>245000000</td>\n",
       "      <td>[{\"id\": 28, \"name\": \"Action\"}, {\"id\": 12, \"nam...</td>\n",
       "      <td>http://www.sonypictures.com/movies/spectre/</td>\n",
       "      <td>206647</td>\n",
       "      <td>[{\"id\": 470, \"name\": \"spy\"}, {\"id\": 818, \"name...</td>\n",
       "      <td>en</td>\n",
       "      <td>Spectre</td>\n",
       "      <td>A cryptic message from Bond’s past sends him o...</td>\n",
       "      <td>107.376788</td>\n",
       "      <td>[{\"name\": \"Columbia Pictures\", \"id\": 5}, {\"nam...</td>\n",
       "      <td>[{\"iso_3166_1\": \"GB\", \"name\": \"United Kingdom\"...</td>\n",
       "      <td>2015-10-26</td>\n",
       "      <td>880674609</td>\n",
       "      <td>148.0</td>\n",
       "      <td>[{\"iso_639_1\": \"fr\", \"name\": \"Fran\\u00e7ais\"},...</td>\n",
       "      <td>Released</td>\n",
       "      <td>A Plan No One Escapes</td>\n",
       "      <td>Spectre</td>\n",
       "      <td>6.3</td>\n",
       "      <td>4466</td>\n",
       "    </tr>\n",
       "    <tr>\n",
       "      <th>3</th>\n",
       "      <td>250000000</td>\n",
       "      <td>[{\"id\": 28, \"name\": \"Action\"}, {\"id\": 80, \"nam...</td>\n",
       "      <td>http://www.thedarkknightrises.com/</td>\n",
       "      <td>49026</td>\n",
       "      <td>[{\"id\": 849, \"name\": \"dc comics\"}, {\"id\": 853,...</td>\n",
       "      <td>en</td>\n",
       "      <td>The Dark Knight Rises</td>\n",
       "      <td>Following the death of District Attorney Harve...</td>\n",
       "      <td>112.312950</td>\n",
       "      <td>[{\"name\": \"Legendary Pictures\", \"id\": 923}, {\"...</td>\n",
       "      <td>[{\"iso_3166_1\": \"US\", \"name\": \"United States o...</td>\n",
       "      <td>2012-07-16</td>\n",
       "      <td>1084939099</td>\n",
       "      <td>165.0</td>\n",
       "      <td>[{\"iso_639_1\": \"en\", \"name\": \"English\"}]</td>\n",
       "      <td>Released</td>\n",
       "      <td>The Legend Ends</td>\n",
       "      <td>The Dark Knight Rises</td>\n",
       "      <td>7.6</td>\n",
       "      <td>9106</td>\n",
       "    </tr>\n",
       "    <tr>\n",
       "      <th>4</th>\n",
       "      <td>260000000</td>\n",
       "      <td>[{\"id\": 28, \"name\": \"Action\"}, {\"id\": 12, \"nam...</td>\n",
       "      <td>http://movies.disney.com/john-carter</td>\n",
       "      <td>49529</td>\n",
       "      <td>[{\"id\": 818, \"name\": \"based on novel\"}, {\"id\":...</td>\n",
       "      <td>en</td>\n",
       "      <td>John Carter</td>\n",
       "      <td>John Carter is a war-weary, former military ca...</td>\n",
       "      <td>43.926995</td>\n",
       "      <td>[{\"name\": \"Walt Disney Pictures\", \"id\": 2}]</td>\n",
       "      <td>[{\"iso_3166_1\": \"US\", \"name\": \"United States o...</td>\n",
       "      <td>2012-03-07</td>\n",
       "      <td>284139100</td>\n",
       "      <td>132.0</td>\n",
       "      <td>[{\"iso_639_1\": \"en\", \"name\": \"English\"}]</td>\n",
       "      <td>Released</td>\n",
       "      <td>Lost in our world, found in another.</td>\n",
       "      <td>John Carter</td>\n",
       "      <td>6.1</td>\n",
       "      <td>2124</td>\n",
       "    </tr>\n",
       "  </tbody>\n",
       "</table>\n",
       "</div>"
      ],
      "text/plain": [
       "      budget                                             genres  \\\n",
       "0  237000000  [{\"id\": 28, \"name\": \"Action\"}, {\"id\": 12, \"nam...   \n",
       "1  300000000  [{\"id\": 12, \"name\": \"Adventure\"}, {\"id\": 14, \"...   \n",
       "2  245000000  [{\"id\": 28, \"name\": \"Action\"}, {\"id\": 12, \"nam...   \n",
       "3  250000000  [{\"id\": 28, \"name\": \"Action\"}, {\"id\": 80, \"nam...   \n",
       "4  260000000  [{\"id\": 28, \"name\": \"Action\"}, {\"id\": 12, \"nam...   \n",
       "\n",
       "                                       homepage      id  \\\n",
       "0                   http://www.avatarmovie.com/   19995   \n",
       "1  http://disney.go.com/disneypictures/pirates/     285   \n",
       "2   http://www.sonypictures.com/movies/spectre/  206647   \n",
       "3            http://www.thedarkknightrises.com/   49026   \n",
       "4          http://movies.disney.com/john-carter   49529   \n",
       "\n",
       "                                            keywords original_language  \\\n",
       "0  [{\"id\": 1463, \"name\": \"culture clash\"}, {\"id\":...                en   \n",
       "1  [{\"id\": 270, \"name\": \"ocean\"}, {\"id\": 726, \"na...                en   \n",
       "2  [{\"id\": 470, \"name\": \"spy\"}, {\"id\": 818, \"name...                en   \n",
       "3  [{\"id\": 849, \"name\": \"dc comics\"}, {\"id\": 853,...                en   \n",
       "4  [{\"id\": 818, \"name\": \"based on novel\"}, {\"id\":...                en   \n",
       "\n",
       "                             original_title  \\\n",
       "0                                    Avatar   \n",
       "1  Pirates of the Caribbean: At World's End   \n",
       "2                                   Spectre   \n",
       "3                     The Dark Knight Rises   \n",
       "4                               John Carter   \n",
       "\n",
       "                                            overview  popularity  \\\n",
       "0  In the 22nd century, a paraplegic Marine is di...  150.437577   \n",
       "1  Captain Barbossa, long believed to be dead, ha...  139.082615   \n",
       "2  A cryptic message from Bond’s past sends him o...  107.376788   \n",
       "3  Following the death of District Attorney Harve...  112.312950   \n",
       "4  John Carter is a war-weary, former military ca...   43.926995   \n",
       "\n",
       "                                production_companies  \\\n",
       "0  [{\"name\": \"Ingenious Film Partners\", \"id\": 289...   \n",
       "1  [{\"name\": \"Walt Disney Pictures\", \"id\": 2}, {\"...   \n",
       "2  [{\"name\": \"Columbia Pictures\", \"id\": 5}, {\"nam...   \n",
       "3  [{\"name\": \"Legendary Pictures\", \"id\": 923}, {\"...   \n",
       "4        [{\"name\": \"Walt Disney Pictures\", \"id\": 2}]   \n",
       "\n",
       "                                production_countries release_date     revenue  \\\n",
       "0  [{\"iso_3166_1\": \"US\", \"name\": \"United States o...   2009-12-10  2787965087   \n",
       "1  [{\"iso_3166_1\": \"US\", \"name\": \"United States o...   2007-05-19   961000000   \n",
       "2  [{\"iso_3166_1\": \"GB\", \"name\": \"United Kingdom\"...   2015-10-26   880674609   \n",
       "3  [{\"iso_3166_1\": \"US\", \"name\": \"United States o...   2012-07-16  1084939099   \n",
       "4  [{\"iso_3166_1\": \"US\", \"name\": \"United States o...   2012-03-07   284139100   \n",
       "\n",
       "   runtime                                   spoken_languages    status  \\\n",
       "0    162.0  [{\"iso_639_1\": \"en\", \"name\": \"English\"}, {\"iso...  Released   \n",
       "1    169.0           [{\"iso_639_1\": \"en\", \"name\": \"English\"}]  Released   \n",
       "2    148.0  [{\"iso_639_1\": \"fr\", \"name\": \"Fran\\u00e7ais\"},...  Released   \n",
       "3    165.0           [{\"iso_639_1\": \"en\", \"name\": \"English\"}]  Released   \n",
       "4    132.0           [{\"iso_639_1\": \"en\", \"name\": \"English\"}]  Released   \n",
       "\n",
       "                                          tagline  \\\n",
       "0                     Enter the World of Pandora.   \n",
       "1  At the end of the world, the adventure begins.   \n",
       "2                           A Plan No One Escapes   \n",
       "3                                 The Legend Ends   \n",
       "4            Lost in our world, found in another.   \n",
       "\n",
       "                                      title  vote_average  vote_count  \n",
       "0                                    Avatar           7.2       11800  \n",
       "1  Pirates of the Caribbean: At World's End           6.9        4500  \n",
       "2                                   Spectre           6.3        4466  \n",
       "3                     The Dark Knight Rises           7.6        9106  \n",
       "4                               John Carter           6.1        2124  "
      ]
     },
     "execution_count": 5,
     "metadata": {},
     "output_type": "execute_result"
    }
   ],
   "source": [
    "# Display the first few rows of the 'movies' DataFrame\n",
    "movies.head()"
   ]
  },
  {
   "cell_type": "code",
   "execution_count": 6,
   "id": "e23bb8ec",
   "metadata": {
    "colab": {
     "base_uri": "https://localhost:8080/",
     "height": 328
    },
    "executionInfo": {
     "elapsed": 298,
     "status": "ok",
     "timestamp": 1701794666850,
     "user": {
      "displayName": "Julián Andrés Prego",
      "userId": "00181364774626352870"
     },
     "user_tz": -60
    },
    "id": "0ea53106",
    "outputId": "57b67ac7-4ef8-42b9-ee84-e80c6d6ab5a0",
    "scrolled": true
   },
   "outputs": [
    {
     "data": {
      "text/html": [
       "<div>\n",
       "<style scoped>\n",
       "    .dataframe tbody tr th:only-of-type {\n",
       "        vertical-align: middle;\n",
       "    }\n",
       "\n",
       "    .dataframe tbody tr th {\n",
       "        vertical-align: top;\n",
       "    }\n",
       "\n",
       "    .dataframe thead th {\n",
       "        text-align: right;\n",
       "    }\n",
       "</style>\n",
       "<table border=\"1\" class=\"dataframe\">\n",
       "  <thead>\n",
       "    <tr style=\"text-align: right;\">\n",
       "      <th></th>\n",
       "      <th>movie_id</th>\n",
       "      <th>title</th>\n",
       "      <th>cast</th>\n",
       "      <th>crew</th>\n",
       "    </tr>\n",
       "  </thead>\n",
       "  <tbody>\n",
       "    <tr>\n",
       "      <th>0</th>\n",
       "      <td>19995</td>\n",
       "      <td>Avatar</td>\n",
       "      <td>[{\"cast_id\": 242, \"character\": \"Jake Sully\", \"...</td>\n",
       "      <td>[{\"credit_id\": \"52fe48009251416c750aca23\", \"de...</td>\n",
       "    </tr>\n",
       "    <tr>\n",
       "      <th>1</th>\n",
       "      <td>285</td>\n",
       "      <td>Pirates of the Caribbean: At World's End</td>\n",
       "      <td>[{\"cast_id\": 4, \"character\": \"Captain Jack Spa...</td>\n",
       "      <td>[{\"credit_id\": \"52fe4232c3a36847f800b579\", \"de...</td>\n",
       "    </tr>\n",
       "    <tr>\n",
       "      <th>2</th>\n",
       "      <td>206647</td>\n",
       "      <td>Spectre</td>\n",
       "      <td>[{\"cast_id\": 1, \"character\": \"James Bond\", \"cr...</td>\n",
       "      <td>[{\"credit_id\": \"54805967c3a36829b5002c41\", \"de...</td>\n",
       "    </tr>\n",
       "    <tr>\n",
       "      <th>3</th>\n",
       "      <td>49026</td>\n",
       "      <td>The Dark Knight Rises</td>\n",
       "      <td>[{\"cast_id\": 2, \"character\": \"Bruce Wayne / Ba...</td>\n",
       "      <td>[{\"credit_id\": \"52fe4781c3a36847f81398c3\", \"de...</td>\n",
       "    </tr>\n",
       "    <tr>\n",
       "      <th>4</th>\n",
       "      <td>49529</td>\n",
       "      <td>John Carter</td>\n",
       "      <td>[{\"cast_id\": 5, \"character\": \"John Carter\", \"c...</td>\n",
       "      <td>[{\"credit_id\": \"52fe479ac3a36847f813eaa3\", \"de...</td>\n",
       "    </tr>\n",
       "  </tbody>\n",
       "</table>\n",
       "</div>"
      ],
      "text/plain": [
       "   movie_id                                     title  \\\n",
       "0     19995                                    Avatar   \n",
       "1       285  Pirates of the Caribbean: At World's End   \n",
       "2    206647                                   Spectre   \n",
       "3     49026                     The Dark Knight Rises   \n",
       "4     49529                               John Carter   \n",
       "\n",
       "                                                cast  \\\n",
       "0  [{\"cast_id\": 242, \"character\": \"Jake Sully\", \"...   \n",
       "1  [{\"cast_id\": 4, \"character\": \"Captain Jack Spa...   \n",
       "2  [{\"cast_id\": 1, \"character\": \"James Bond\", \"cr...   \n",
       "3  [{\"cast_id\": 2, \"character\": \"Bruce Wayne / Ba...   \n",
       "4  [{\"cast_id\": 5, \"character\": \"John Carter\", \"c...   \n",
       "\n",
       "                                                crew  \n",
       "0  [{\"credit_id\": \"52fe48009251416c750aca23\", \"de...  \n",
       "1  [{\"credit_id\": \"52fe4232c3a36847f800b579\", \"de...  \n",
       "2  [{\"credit_id\": \"54805967c3a36829b5002c41\", \"de...  \n",
       "3  [{\"credit_id\": \"52fe4781c3a36847f81398c3\", \"de...  \n",
       "4  [{\"credit_id\": \"52fe479ac3a36847f813eaa3\", \"de...  "
      ]
     },
     "execution_count": 6,
     "metadata": {},
     "output_type": "execute_result"
    }
   ],
   "source": [
    "# Display the first few rows of the 'credits' DataFrame\n",
    "credits.head()"
   ]
  },
  {
   "cell_type": "markdown",
   "id": "84c99662",
   "metadata": {
    "id": "73fbe530"
   },
   "source": [
    "We realise that both files contain the same films, so we bring them together in one unique file."
   ]
  },
  {
   "cell_type": "code",
   "execution_count": 7,
   "id": "0c36fd8f",
   "metadata": {
    "colab": {
     "base_uri": "https://localhost:8080/",
     "height": 724
    },
    "executionInfo": {
     "elapsed": 407,
     "status": "ok",
     "timestamp": 1701794671394,
     "user": {
      "displayName": "Julián Andrés Prego",
      "userId": "00181364774626352870"
     },
     "user_tz": -60
    },
    "id": "82b26eee",
    "outputId": "a69ce8d6-b89b-4d05-93bf-260207e7ae26"
   },
   "outputs": [
    {
     "data": {
      "text/html": [
       "<div>\n",
       "<style scoped>\n",
       "    .dataframe tbody tr th:only-of-type {\n",
       "        vertical-align: middle;\n",
       "    }\n",
       "\n",
       "    .dataframe tbody tr th {\n",
       "        vertical-align: top;\n",
       "    }\n",
       "\n",
       "    .dataframe thead th {\n",
       "        text-align: right;\n",
       "    }\n",
       "</style>\n",
       "<table border=\"1\" class=\"dataframe\">\n",
       "  <thead>\n",
       "    <tr style=\"text-align: right;\">\n",
       "      <th></th>\n",
       "      <th>id</th>\n",
       "      <th>title_x</th>\n",
       "      <th>cast</th>\n",
       "      <th>crew</th>\n",
       "      <th>budget</th>\n",
       "      <th>genres</th>\n",
       "      <th>homepage</th>\n",
       "      <th>keywords</th>\n",
       "      <th>original_language</th>\n",
       "      <th>original_title</th>\n",
       "      <th>...</th>\n",
       "      <th>production_countries</th>\n",
       "      <th>release_date</th>\n",
       "      <th>revenue</th>\n",
       "      <th>runtime</th>\n",
       "      <th>spoken_languages</th>\n",
       "      <th>status</th>\n",
       "      <th>tagline</th>\n",
       "      <th>title_y</th>\n",
       "      <th>vote_average</th>\n",
       "      <th>vote_count</th>\n",
       "    </tr>\n",
       "  </thead>\n",
       "  <tbody>\n",
       "    <tr>\n",
       "      <th>0</th>\n",
       "      <td>19995</td>\n",
       "      <td>Avatar</td>\n",
       "      <td>[{\"cast_id\": 242, \"character\": \"Jake Sully\", \"...</td>\n",
       "      <td>[{\"credit_id\": \"52fe48009251416c750aca23\", \"de...</td>\n",
       "      <td>237000000</td>\n",
       "      <td>[{\"id\": 28, \"name\": \"Action\"}, {\"id\": 12, \"nam...</td>\n",
       "      <td>http://www.avatarmovie.com/</td>\n",
       "      <td>[{\"id\": 1463, \"name\": \"culture clash\"}, {\"id\":...</td>\n",
       "      <td>en</td>\n",
       "      <td>Avatar</td>\n",
       "      <td>...</td>\n",
       "      <td>[{\"iso_3166_1\": \"US\", \"name\": \"United States o...</td>\n",
       "      <td>2009-12-10</td>\n",
       "      <td>2787965087</td>\n",
       "      <td>162.0</td>\n",
       "      <td>[{\"iso_639_1\": \"en\", \"name\": \"English\"}, {\"iso...</td>\n",
       "      <td>Released</td>\n",
       "      <td>Enter the World of Pandora.</td>\n",
       "      <td>Avatar</td>\n",
       "      <td>7.2</td>\n",
       "      <td>11800</td>\n",
       "    </tr>\n",
       "    <tr>\n",
       "      <th>1</th>\n",
       "      <td>285</td>\n",
       "      <td>Pirates of the Caribbean: At World's End</td>\n",
       "      <td>[{\"cast_id\": 4, \"character\": \"Captain Jack Spa...</td>\n",
       "      <td>[{\"credit_id\": \"52fe4232c3a36847f800b579\", \"de...</td>\n",
       "      <td>300000000</td>\n",
       "      <td>[{\"id\": 12, \"name\": \"Adventure\"}, {\"id\": 14, \"...</td>\n",
       "      <td>http://disney.go.com/disneypictures/pirates/</td>\n",
       "      <td>[{\"id\": 270, \"name\": \"ocean\"}, {\"id\": 726, \"na...</td>\n",
       "      <td>en</td>\n",
       "      <td>Pirates of the Caribbean: At World's End</td>\n",
       "      <td>...</td>\n",
       "      <td>[{\"iso_3166_1\": \"US\", \"name\": \"United States o...</td>\n",
       "      <td>2007-05-19</td>\n",
       "      <td>961000000</td>\n",
       "      <td>169.0</td>\n",
       "      <td>[{\"iso_639_1\": \"en\", \"name\": \"English\"}]</td>\n",
       "      <td>Released</td>\n",
       "      <td>At the end of the world, the adventure begins.</td>\n",
       "      <td>Pirates of the Caribbean: At World's End</td>\n",
       "      <td>6.9</td>\n",
       "      <td>4500</td>\n",
       "    </tr>\n",
       "    <tr>\n",
       "      <th>2</th>\n",
       "      <td>206647</td>\n",
       "      <td>Spectre</td>\n",
       "      <td>[{\"cast_id\": 1, \"character\": \"James Bond\", \"cr...</td>\n",
       "      <td>[{\"credit_id\": \"54805967c3a36829b5002c41\", \"de...</td>\n",
       "      <td>245000000</td>\n",
       "      <td>[{\"id\": 28, \"name\": \"Action\"}, {\"id\": 12, \"nam...</td>\n",
       "      <td>http://www.sonypictures.com/movies/spectre/</td>\n",
       "      <td>[{\"id\": 470, \"name\": \"spy\"}, {\"id\": 818, \"name...</td>\n",
       "      <td>en</td>\n",
       "      <td>Spectre</td>\n",
       "      <td>...</td>\n",
       "      <td>[{\"iso_3166_1\": \"GB\", \"name\": \"United Kingdom\"...</td>\n",
       "      <td>2015-10-26</td>\n",
       "      <td>880674609</td>\n",
       "      <td>148.0</td>\n",
       "      <td>[{\"iso_639_1\": \"fr\", \"name\": \"Fran\\u00e7ais\"},...</td>\n",
       "      <td>Released</td>\n",
       "      <td>A Plan No One Escapes</td>\n",
       "      <td>Spectre</td>\n",
       "      <td>6.3</td>\n",
       "      <td>4466</td>\n",
       "    </tr>\n",
       "    <tr>\n",
       "      <th>3</th>\n",
       "      <td>49026</td>\n",
       "      <td>The Dark Knight Rises</td>\n",
       "      <td>[{\"cast_id\": 2, \"character\": \"Bruce Wayne / Ba...</td>\n",
       "      <td>[{\"credit_id\": \"52fe4781c3a36847f81398c3\", \"de...</td>\n",
       "      <td>250000000</td>\n",
       "      <td>[{\"id\": 28, \"name\": \"Action\"}, {\"id\": 80, \"nam...</td>\n",
       "      <td>http://www.thedarkknightrises.com/</td>\n",
       "      <td>[{\"id\": 849, \"name\": \"dc comics\"}, {\"id\": 853,...</td>\n",
       "      <td>en</td>\n",
       "      <td>The Dark Knight Rises</td>\n",
       "      <td>...</td>\n",
       "      <td>[{\"iso_3166_1\": \"US\", \"name\": \"United States o...</td>\n",
       "      <td>2012-07-16</td>\n",
       "      <td>1084939099</td>\n",
       "      <td>165.0</td>\n",
       "      <td>[{\"iso_639_1\": \"en\", \"name\": \"English\"}]</td>\n",
       "      <td>Released</td>\n",
       "      <td>The Legend Ends</td>\n",
       "      <td>The Dark Knight Rises</td>\n",
       "      <td>7.6</td>\n",
       "      <td>9106</td>\n",
       "    </tr>\n",
       "    <tr>\n",
       "      <th>4</th>\n",
       "      <td>49529</td>\n",
       "      <td>John Carter</td>\n",
       "      <td>[{\"cast_id\": 5, \"character\": \"John Carter\", \"c...</td>\n",
       "      <td>[{\"credit_id\": \"52fe479ac3a36847f813eaa3\", \"de...</td>\n",
       "      <td>260000000</td>\n",
       "      <td>[{\"id\": 28, \"name\": \"Action\"}, {\"id\": 12, \"nam...</td>\n",
       "      <td>http://movies.disney.com/john-carter</td>\n",
       "      <td>[{\"id\": 818, \"name\": \"based on novel\"}, {\"id\":...</td>\n",
       "      <td>en</td>\n",
       "      <td>John Carter</td>\n",
       "      <td>...</td>\n",
       "      <td>[{\"iso_3166_1\": \"US\", \"name\": \"United States o...</td>\n",
       "      <td>2012-03-07</td>\n",
       "      <td>284139100</td>\n",
       "      <td>132.0</td>\n",
       "      <td>[{\"iso_639_1\": \"en\", \"name\": \"English\"}]</td>\n",
       "      <td>Released</td>\n",
       "      <td>Lost in our world, found in another.</td>\n",
       "      <td>John Carter</td>\n",
       "      <td>6.1</td>\n",
       "      <td>2124</td>\n",
       "    </tr>\n",
       "  </tbody>\n",
       "</table>\n",
       "<p>5 rows × 23 columns</p>\n",
       "</div>"
      ],
      "text/plain": [
       "       id                                   title_x  \\\n",
       "0   19995                                    Avatar   \n",
       "1     285  Pirates of the Caribbean: At World's End   \n",
       "2  206647                                   Spectre   \n",
       "3   49026                     The Dark Knight Rises   \n",
       "4   49529                               John Carter   \n",
       "\n",
       "                                                cast  \\\n",
       "0  [{\"cast_id\": 242, \"character\": \"Jake Sully\", \"...   \n",
       "1  [{\"cast_id\": 4, \"character\": \"Captain Jack Spa...   \n",
       "2  [{\"cast_id\": 1, \"character\": \"James Bond\", \"cr...   \n",
       "3  [{\"cast_id\": 2, \"character\": \"Bruce Wayne / Ba...   \n",
       "4  [{\"cast_id\": 5, \"character\": \"John Carter\", \"c...   \n",
       "\n",
       "                                                crew     budget  \\\n",
       "0  [{\"credit_id\": \"52fe48009251416c750aca23\", \"de...  237000000   \n",
       "1  [{\"credit_id\": \"52fe4232c3a36847f800b579\", \"de...  300000000   \n",
       "2  [{\"credit_id\": \"54805967c3a36829b5002c41\", \"de...  245000000   \n",
       "3  [{\"credit_id\": \"52fe4781c3a36847f81398c3\", \"de...  250000000   \n",
       "4  [{\"credit_id\": \"52fe479ac3a36847f813eaa3\", \"de...  260000000   \n",
       "\n",
       "                                              genres  \\\n",
       "0  [{\"id\": 28, \"name\": \"Action\"}, {\"id\": 12, \"nam...   \n",
       "1  [{\"id\": 12, \"name\": \"Adventure\"}, {\"id\": 14, \"...   \n",
       "2  [{\"id\": 28, \"name\": \"Action\"}, {\"id\": 12, \"nam...   \n",
       "3  [{\"id\": 28, \"name\": \"Action\"}, {\"id\": 80, \"nam...   \n",
       "4  [{\"id\": 28, \"name\": \"Action\"}, {\"id\": 12, \"nam...   \n",
       "\n",
       "                                       homepage  \\\n",
       "0                   http://www.avatarmovie.com/   \n",
       "1  http://disney.go.com/disneypictures/pirates/   \n",
       "2   http://www.sonypictures.com/movies/spectre/   \n",
       "3            http://www.thedarkknightrises.com/   \n",
       "4          http://movies.disney.com/john-carter   \n",
       "\n",
       "                                            keywords original_language  \\\n",
       "0  [{\"id\": 1463, \"name\": \"culture clash\"}, {\"id\":...                en   \n",
       "1  [{\"id\": 270, \"name\": \"ocean\"}, {\"id\": 726, \"na...                en   \n",
       "2  [{\"id\": 470, \"name\": \"spy\"}, {\"id\": 818, \"name...                en   \n",
       "3  [{\"id\": 849, \"name\": \"dc comics\"}, {\"id\": 853,...                en   \n",
       "4  [{\"id\": 818, \"name\": \"based on novel\"}, {\"id\":...                en   \n",
       "\n",
       "                             original_title  ...  \\\n",
       "0                                    Avatar  ...   \n",
       "1  Pirates of the Caribbean: At World's End  ...   \n",
       "2                                   Spectre  ...   \n",
       "3                     The Dark Knight Rises  ...   \n",
       "4                               John Carter  ...   \n",
       "\n",
       "                                production_countries  release_date  \\\n",
       "0  [{\"iso_3166_1\": \"US\", \"name\": \"United States o...    2009-12-10   \n",
       "1  [{\"iso_3166_1\": \"US\", \"name\": \"United States o...    2007-05-19   \n",
       "2  [{\"iso_3166_1\": \"GB\", \"name\": \"United Kingdom\"...    2015-10-26   \n",
       "3  [{\"iso_3166_1\": \"US\", \"name\": \"United States o...    2012-07-16   \n",
       "4  [{\"iso_3166_1\": \"US\", \"name\": \"United States o...    2012-03-07   \n",
       "\n",
       "      revenue runtime                                   spoken_languages  \\\n",
       "0  2787965087   162.0  [{\"iso_639_1\": \"en\", \"name\": \"English\"}, {\"iso...   \n",
       "1   961000000   169.0           [{\"iso_639_1\": \"en\", \"name\": \"English\"}]   \n",
       "2   880674609   148.0  [{\"iso_639_1\": \"fr\", \"name\": \"Fran\\u00e7ais\"},...   \n",
       "3  1084939099   165.0           [{\"iso_639_1\": \"en\", \"name\": \"English\"}]   \n",
       "4   284139100   132.0           [{\"iso_639_1\": \"en\", \"name\": \"English\"}]   \n",
       "\n",
       "     status                                         tagline  \\\n",
       "0  Released                     Enter the World of Pandora.   \n",
       "1  Released  At the end of the world, the adventure begins.   \n",
       "2  Released                           A Plan No One Escapes   \n",
       "3  Released                                 The Legend Ends   \n",
       "4  Released            Lost in our world, found in another.   \n",
       "\n",
       "                                    title_y vote_average vote_count  \n",
       "0                                    Avatar          7.2      11800  \n",
       "1  Pirates of the Caribbean: At World's End          6.9       4500  \n",
       "2                                   Spectre          6.3       4466  \n",
       "3                     The Dark Knight Rises          7.6       9106  \n",
       "4                               John Carter          6.1       2124  \n",
       "\n",
       "[5 rows x 23 columns]"
      ]
     },
     "execution_count": 7,
     "metadata": {},
     "output_type": "execute_result"
    }
   ],
   "source": [
    "copy=credits.rename(columns={'movie_id':'id'})\n",
    "file = pd.merge(copy, movies, on='id')\n",
    "file.head()\n",
    "#file is the merge of the two initial dataframes"
   ]
  },
  {
   "cell_type": "markdown",
   "id": "3dffcbd5",
   "metadata": {
    "id": "35eacbcd"
   },
   "source": [
    "## Exploratory Analysis"
   ]
  },
  {
   "cell_type": "markdown",
   "id": "10d8e217",
   "metadata": {
    "id": "b4415d53"
   },
   "source": [
    "First of all, to familiarise ourselves with the data, we will make a small exploratory analysis."
   ]
  },
  {
   "cell_type": "markdown",
   "id": "2125f245",
   "metadata": {
    "id": "5164f4ac"
   },
   "source": [
    "### Language of the films"
   ]
  },
  {
   "cell_type": "code",
   "execution_count": 8,
   "id": "233d0399",
   "metadata": {},
   "outputs": [
    {
     "data": {
      "text/plain": [
       "en    4505\n",
       "fr      70\n",
       "es      32\n",
       "zh      27\n",
       "de      27\n",
       "Name: original_language, dtype: int64"
      ]
     },
     "execution_count": 8,
     "metadata": {},
     "output_type": "execute_result"
    }
   ],
   "source": [
    "#original language\n",
    "languages=file[\"original_language\"]\n",
    "distinct_languages=languages.value_counts()\n",
    "distinct_languages.head()"
   ]
  },
  {
   "cell_type": "markdown",
   "id": "ac7a3f63",
   "metadata": {},
   "source": [
    "We realise that there are far more films in english that in any other language, so we decide to separate these films and to make a pie chart to visualize the distribution of English vs non-English films"
   ]
  },
  {
   "cell_type": "code",
   "execution_count": 9,
   "id": "5fea055e",
   "metadata": {
    "colab": {
     "base_uri": "https://localhost:8080/",
     "height": 445
    },
    "executionInfo": {
     "elapsed": 308,
     "status": "ok",
     "timestamp": 1701794676526,
     "user": {
      "displayName": "Julián Andrés Prego",
      "userId": "00181364774626352870"
     },
     "user_tz": -60
    },
    "id": "751c8460",
    "outputId": "852b17d0-b3eb-47b2-ed89-e48092ccb9e6"
   },
   "outputs": [
    {
     "data": {
      "image/png": "[encoded data removed]",
      "text/plain": [
       "<Figure size 640x480 with 1 Axes>"
      ]
     },
     "metadata": {},
     "output_type": "display_data"
    }
   ],
   "source": [
    "#We separate english from the rest\n",
    "counts=[distinct_languages.values[0],np.sum(distinct_languages.values[1:])]\n",
    "labels=[\"English\",\"Rest\"]\n",
    "\n",
    "# Creating a pie chart \n",
    "plt.pie(counts,labels=labels,autopct='%1.1f%%')\n",
    "plt.title(\"Distribution of english vs non english films\");\n"
   ]
  },
  {
   "cell_type": "markdown",
   "id": "0d535718",
   "metadata": {
    "id": "8935c76f"
   },
   "source": [
    "As expected, english is the original language for most of the films. To see the difference between the rest of the languages, we do a barchart."
   ]
  },
  {
   "cell_type": "code",
   "execution_count": 10,
   "id": "686704eb",
   "metadata": {
    "colab": {
     "base_uri": "https://localhost:8080/",
     "height": 452
    },
    "executionInfo": {
     "elapsed": 788,
     "status": "ok",
     "timestamp": 1701794683632,
     "user": {
      "displayName": "Julián Andrés Prego",
      "userId": "00181364774626352870"
     },
     "user_tz": -60
    },
    "id": "f155d9fa",
    "outputId": "fb5a7728-1db7-4d1a-afc4-316e3227df77"
   },
   "outputs": [
    {
     "data": {
      "image/png": "[encoded data removed]",
      "text/plain": [
       "<Figure size 640x480 with 1 Axes>"
      ]
     },
     "metadata": {},
     "output_type": "display_data"
    }
   ],
   "source": [
    "plt.bar(distinct_languages.index[1:],distinct_languages.values[1:])\n",
    "plt.xlim(-0.5, 30.5)\n",
    "plt.ylabel(\"Frequency\")\n",
    "plt.title(\"Number of non english films\");"
   ]
  },
  {
   "cell_type": "markdown",
   "id": "379418dc",
   "metadata": {
    "id": "140ecd0e"
   },
   "source": [
    "French and spanish are the majority languages, although obviously to a lesser extent than English."
   ]
  },
  {
   "cell_type": "markdown",
   "id": "8d704faf",
   "metadata": {
    "id": "5c27c96a"
   },
   "source": [
    "### Status of the films"
   ]
  },
  {
   "cell_type": "markdown",
   "id": "fca4eca7",
   "metadata": {
    "id": "390878c2"
   },
   "source": [
    "We study the variable status"
   ]
  },
  {
   "cell_type": "code",
   "execution_count": 11,
   "id": "8fe957e7",
   "metadata": {
    "colab": {
     "base_uri": "https://localhost:8080/"
    },
    "executionInfo": {
     "elapsed": 354,
     "status": "ok",
     "timestamp": 1701794687405,
     "user": {
      "displayName": "Julián Andrés Prego",
      "userId": "00181364774626352870"
     },
     "user_tz": -60
    },
    "id": "8ec7a837",
    "outputId": "789c2ad1-39c8-4fbd-9d9b-aa753ba4eabe",
    "scrolled": false
   },
   "outputs": [
    {
     "data": {
      "text/plain": [
       "Released           4795\n",
       "Rumored               5\n",
       "Post Production       3\n",
       "Name: status, dtype: int64"
      ]
     },
     "execution_count": 11,
     "metadata": {},
     "output_type": "execute_result"
    }
   ],
   "source": [
    "file[\"status\"].value_counts()"
   ]
  },
  {
   "cell_type": "markdown",
   "id": "1f58764e",
   "metadata": {
    "id": "6ba989f7"
   },
   "source": [
    "We feel that films that have not yet been released do not work for us. We can't recommend a film that hasn't been released yet, it doesn't make sense. No matter how similar it may seem to a film you like, we don't think we should recommend it if it is not yet possible to watch it. For this reason, and because there are few films with this circumstance, we decide to remove them."
   ]
  },
  {
   "cell_type": "code",
   "execution_count": 12,
   "id": "36d7f38c",
   "metadata": {
    "executionInfo": {
     "elapsed": 262,
     "status": "ok",
     "timestamp": 1701794690565,
     "user": {
      "displayName": "Julián Andrés Prego",
      "userId": "00181364774626352870"
     },
     "user_tz": -60
    },
    "id": "fa147492"
   },
   "outputs": [],
   "source": [
    "file=file.loc[file[\"status\"]==\"Released\"]"
   ]
  },
  {
   "cell_type": "markdown",
   "id": "e5ae1fb2",
   "metadata": {
    "id": "3f98a5cd"
   },
   "source": [
    "### Rating and budget"
   ]
  },
  {
   "cell_type": "markdown",
   "id": "fac31126",
   "metadata": {},
   "source": [
    "We want to see whether there is a visual relation between the columns \"rating\" and \"budget\". "
   ]
  },
  {
   "cell_type": "code",
   "execution_count": 13,
   "id": "a1ccae99",
   "metadata": {
    "colab": {
     "base_uri": "https://localhost:8080/",
     "height": 472
    },
    "executionInfo": {
     "elapsed": 708,
     "status": "ok",
     "timestamp": 1701794692519,
     "user": {
      "displayName": "Julián Andrés Prego",
      "userId": "00181364774626352870"
     },
     "user_tz": -60
    },
    "id": "f068acfa",
    "outputId": "f8e23d98-f6e8-444e-e3c7-82a037a4cd12"
   },
   "outputs": [
    {
     "data": {
      "image/png": "[encoded data removed]",
      "text/plain": [
       "<Figure size 640x480 with 2 Axes>"
      ]
     },
     "metadata": {},
     "output_type": "display_data"
    }
   ],
   "source": [
    "num_bins = 10\n",
    "\n",
    "n, bins, patches = plt.hist(file['vote_average'], edgecolor='black')\n",
    "\n",
    "# Calculate the average of each bin\n",
    "bin_means = [file['budget'][(file['vote_average'] >= bins[i]) & (file['vote_average'] < bins[i + 1])].mean() for i in range(num_bins)]\n",
    "\n",
    "# Assign colours to the bars according to the average budget in that bin\n",
    "for i in range(num_bins):\n",
    "    color = plt.cm.viridis(bin_means[i] / max(bin_means))\n",
    "    patches[i].set_facecolor(color)\n",
    "    \n",
    "sm = plt.cm.ScalarMappable(cmap=plt.cm.viridis, norm=plt.Normalize(vmin=min(bin_means), vmax=max(bin_means)))\n",
    "sm.set_array([])\n",
    "cbar = plt.colorbar(sm, label='Average Budget')\n",
    "\n",
    "plt.title('Histogram of rating acording to average budget')\n",
    "plt.xlabel('Rating')\n",
    "plt.ylabel('Frequency');\n"
   ]
  },
  {
   "cell_type": "markdown",
   "id": "0febfad9",
   "metadata": {
    "id": "2f293a58"
   },
   "source": [
    "We see that depending on the budget, the rating of the films is generally different. This is logical, since the bigger the budget, the better the film is supposed to be. We appreciate that films with a rating above 5 are the ones with the higher average budget, on contrast with the ones below 5 that correspond with lower values of average budget."
   ]
  },
  {
   "cell_type": "markdown",
   "id": "2379d84f",
   "metadata": {
    "id": "a51aafc8"
   },
   "source": [
    "## Content recomendation system"
   ]
  },
  {
   "cell_type": "markdown",
   "id": "afb25599",
   "metadata": {
    "id": "2ab4ebc6"
   },
   "source": [
    "We remove the instances that dont have overview from our dataset to only take into account movies whose description we know."
   ]
  },
  {
   "cell_type": "code",
   "execution_count": 14,
   "id": "2a3b3ed3",
   "metadata": {
    "executionInfo": {
     "elapsed": 295,
     "status": "ok",
     "timestamp": 1701794698032,
     "user": {
      "displayName": "Julián Andrés Prego",
      "userId": "00181364774626352870"
     },
     "user_tz": -60
    },
    "id": "212f1832"
   },
   "outputs": [],
   "source": [
    "#eliminate nan overview\n",
    "file = file.dropna(subset=['overview'])"
   ]
  },
  {
   "cell_type": "markdown",
   "id": "27c532e6",
   "metadata": {
    "id": "5bc798e5"
   },
   "source": [
    "We use literal_eval to convert the strings in lists. This will be useful later."
   ]
  },
  {
   "cell_type": "code",
   "execution_count": 15,
   "id": "a4269302",
   "metadata": {
    "executionInfo": {
     "elapsed": 7319,
     "status": "ok",
     "timestamp": 1701794706988,
     "user": {
      "displayName": "Julián Andrés Prego",
      "userId": "00181364774626352870"
     },
     "user_tz": -60
    },
    "id": "a4d464fd"
   },
   "outputs": [],
   "source": [
    "from ast import literal_eval\n",
    "\n",
    "things = ['cast', 'crew', 'keywords', 'genres']\n",
    "for t in things:\n",
    "    file[t] = file[t].apply(literal_eval)"
   ]
  },
  {
   "cell_type": "markdown",
   "id": "33a4d200",
   "metadata": {
    "id": "8d9277b8"
   },
   "source": [
    "This next function selects the amount of things you want from an ordered list. By default it takes 5 elements. If you try to get more elements than a list has, it simply takes them all."
   ]
  },
  {
   "cell_type": "code",
   "execution_count": 16,
   "id": "361d2679",
   "metadata": {
    "executionInfo": {
     "elapsed": 271,
     "status": "ok",
     "timestamp": 1701794709073,
     "user": {
      "displayName": "Julián Andrés Prego",
      "userId": "00181364774626352870"
     },
     "user_tz": -60
    },
    "id": "ded5deba"
   },
   "outputs": [],
   "source": [
    "def get_elements(list_things,quantity=5):\n",
    "    names = [i['name'] for i in list_things]\n",
    "    if len(names) > quantity:\n",
    "        names = names[:quantity]\n",
    "    return names\n"
   ]
  },
  {
   "cell_type": "markdown",
   "id": "ee050ff8",
   "metadata": {
    "id": "9dabc43c"
   },
   "source": [
    "We use the previous function to modify cast, keywords and genres columns in our dataset. Now on those columns only appear the amount of things you selected before."
   ]
  },
  {
   "cell_type": "code",
   "execution_count": 17,
   "id": "7e1eb1a4",
   "metadata": {
    "executionInfo": {
     "elapsed": 3,
     "status": "ok",
     "timestamp": 1701794711910,
     "user": {
      "displayName": "Julián Andrés Prego",
      "userId": "00181364774626352870"
     },
     "user_tz": -60
    },
    "id": "5e493886"
   },
   "outputs": [],
   "source": [
    "things = ['cast', 'keywords', 'genres']\n",
    "for t in things:\n",
    "    file[t] = file[t].apply(get_elements)"
   ]
  },
  {
   "cell_type": "markdown",
   "id": "143e5d7f",
   "metadata": {
    "id": "06a9e425"
   },
   "source": [
    "About the crew of each movie, we think it is only useful to know the director, so we select it from the crew column."
   ]
  },
  {
   "cell_type": "code",
   "execution_count": 18,
   "id": "6ea7cbae",
   "metadata": {
    "executionInfo": {
     "elapsed": 2,
     "status": "ok",
     "timestamp": 1701794713030,
     "user": {
      "displayName": "Julián Andrés Prego",
      "userId": "00181364774626352870"
     },
     "user_tz": -60
    },
    "id": "2cc0a379"
   },
   "outputs": [],
   "source": [
    "def get_director(crew):\n",
    "    for c in crew:\n",
    "        if c[\"job\"]==\"Director\":\n",
    "            return c[\"name\"]\n",
    "    return np.nan\n",
    "#If it doesnt have director, we return Nan to not delete more movies."
   ]
  },
  {
   "cell_type": "markdown",
   "id": "cce3df64",
   "metadata": {
    "id": "866c9d81"
   },
   "source": [
    "Here we create the director columns"
   ]
  },
  {
   "cell_type": "code",
   "execution_count": 19,
   "id": "fd73b503",
   "metadata": {
    "executionInfo": {
     "elapsed": 261,
     "status": "ok",
     "timestamp": 1701794715357,
     "user": {
      "displayName": "Julián Andrés Prego",
      "userId": "00181364774626352870"
     },
     "user_tz": -60
    },
    "id": "4b59aff1"
   },
   "outputs": [],
   "source": [
    "file[\"director\"]=file[\"crew\"].apply(get_director)"
   ]
  },
  {
   "cell_type": "code",
   "execution_count": 20,
   "id": "cbfe24d9",
   "metadata": {},
   "outputs": [],
   "source": [
    "#We reset the index of the file.\n",
    "file=file.reset_index(drop=True)"
   ]
  },
  {
   "cell_type": "markdown",
   "id": "d97ba176",
   "metadata": {
    "id": "d22a4f79"
   },
   "source": [
    "What we are going to do next is: First of all, given a movie of your choice, the 10 most similar movies will be returned according to their overview. Subsequently, the 10 movies will be reordered according to their director, keywords and genres."
   ]
  },
  {
   "cell_type": "code",
   "execution_count": 21,
   "id": "1b359be3",
   "metadata": {
    "colab": {
     "base_uri": "https://localhost:8080/"
    },
    "executionInfo": {
     "elapsed": 2295,
     "status": "ok",
     "timestamp": 1701794719779,
     "user": {
      "displayName": "Julián Andrés Prego",
      "userId": "00181364774626352870"
     },
     "user_tz": -60
    },
    "id": "36d18256",
    "outputId": "cf5502d2-217b-4ee4-c45f-55b6271066f2"
   },
   "outputs": [
    {
     "data": {
      "text/plain": [
       "(4792, 20970)"
      ]
     },
     "execution_count": 21,
     "metadata": {},
     "output_type": "execute_result"
    }
   ],
   "source": [
    "##overview\n",
    "from sklearn.feature_extraction.text import TfidfVectorizer\n",
    "##usamos la funcion vista en las practicas....\n",
    "vectorizer = TfidfVectorizer(stop_words='english')\n",
    "matrix = vectorizer.fit_transform(file['overview'])\n",
    "matrix.shape"
   ]
  },
  {
   "cell_type": "code",
   "execution_count": 22,
   "id": "6308b5ae",
   "metadata": {
    "colab": {
     "base_uri": "https://localhost:8080/"
    },
    "executionInfo": {
     "elapsed": 783,
     "status": "ok",
     "timestamp": 1701794723090,
     "user": {
      "displayName": "Julián Andrés Prego",
      "userId": "00181364774626352870"
     },
     "user_tz": -60
    },
    "id": "72702ecb",
    "outputId": "65be59c6-ed57-42a9-f882-7545e7e76120"
   },
   "outputs": [],
   "source": [
    "# Import linear_kernel\n",
    "from sklearn.metrics.pairwise import linear_kernel\n",
    "#We use lineal kernel because it is computationally efficient\n",
    "l_kernel = linear_kernel(matrix, matrix)"
   ]
  },
  {
   "cell_type": "code",
   "execution_count": 23,
   "id": "02284dfa",
   "metadata": {
    "executionInfo": {
     "elapsed": 322,
     "status": "ok",
     "timestamp": 1701794727208,
     "user": {
      "displayName": "Julián Andrés Prego",
      "userId": "00181364774626352870"
     },
     "user_tz": -60
    },
    "id": "0c8083ef"
   },
   "outputs": [],
   "source": [
    "import heapq\n",
    "\n",
    "# Define a function to extract the similarity score from a tuple\n",
    "def get_similarity_score(x):\n",
    "    return x[1]\n",
    "\n",
    "def get_recommendations(title,metric,file_used=file):\n",
    "\n",
    "    # Get the index of the movie that matches the title\n",
    "    idx = file_used.loc[file_used['title_x'] == title].index[0]\n",
    "    \n",
    "    # Get the pairwsie similarity scores of all movies with that movie\n",
    "    sim_scores = list(enumerate(metric[idx]))\n",
    "\n",
    "    # Get the indices of the top 10 most similar movies\n",
    "    top_indices = heapq.nlargest(10, sim_scores, key=get_similarity_score)\n",
    "\n",
    "    # Get the movie indices\n",
    "    movie_indices = [i[0] for i in top_indices]\n",
    "\n",
    "    # Return the top 10 most similar movies\n",
    "    return file_used['title_x'].iloc[movie_indices]"
   ]
  },
  {
   "cell_type": "code",
   "execution_count": 24,
   "id": "ca21d705",
   "metadata": {
    "colab": {
     "base_uri": "https://localhost:8080/"
    },
    "executionInfo": {
     "elapsed": 242,
     "status": "ok",
     "timestamp": 1701794730303,
     "user": {
      "displayName": "Julián Andrés Prego",
      "userId": "00181364774626352870"
     },
     "user_tz": -60
    },
    "id": "b092dc35",
    "outputId": "a00f7e51-affe-4055-de1b-35e6f23e7a46"
   },
   "outputs": [
    {
     "name": "stdout",
     "output_type": "stream",
     "text": [
      "0\n",
      "0                             Avatar\n",
      "3602                       Apollo 18\n",
      "2130                    The American\n",
      "634                       The Matrix\n",
      "1341            The Inhabited Island\n",
      "529                 Tears of the Sun\n",
      "1610                           Hanna\n",
      "311     The Adventures of Pluto Nash\n",
      "847                         Semi-Pro\n",
      "775                        Supernova\n",
      "Name: title_x, dtype: object\n",
      "\n",
      "\n",
      "-------------------------------------------------\n",
      "\n",
      "\n",
      "3\n",
      "3                         The Dark Knight Rises\n",
      "65                              The Dark Knight\n",
      "299                              Batman Forever\n",
      "428                              Batman Returns\n",
      "1359                                     Batman\n",
      "3852    Batman: The Dark Knight Returns, Part 2\n",
      "119                               Batman Begins\n",
      "2507                                  Slow Burn\n",
      "9            Batman v Superman: Dawn of Justice\n",
      "1181                                        JFK\n",
      "Name: title_x, dtype: object\n"
     ]
    }
   ],
   "source": [
    "# Print movie recommendations\n",
    "\n",
    "print(get_recommendations('Avatar',l_kernel))\n",
    "print('\\n\\n-------------------------------------------------\\n\\n')\n",
    "print(get_recommendations('The Dark Knight Rises',l_kernel))"
   ]
  },
  {
   "cell_type": "code",
   "execution_count": 25,
   "id": "5d1d5165",
   "metadata": {
    "executionInfo": {
     "elapsed": 405,
     "status": "ok",
     "timestamp": 1701794736575,
     "user": {
      "displayName": "Julián Andrés Prego",
      "userId": "00181364774626352870"
     },
     "user_tz": -60
    },
    "id": "48c40aff"
   },
   "outputs": [],
   "source": [
    "# Define a function 'create_soup' to concatenate keywords, cast, director, and genres into a soup string\n",
    "def create_soup(x):\n",
    "    keywords = ' '.join(x['keywords']) if isinstance(x['keywords'], list) else ''\n",
    "    cast = ' '.join(x['cast']) if isinstance(x['cast'], list) else ''\n",
    "    # Convert director to a string if it's not NaN, otherwise use an empty string\n",
    "    director = str(x['director']) if pd.notna(x['director']) else ''\n",
    "    genres = ' '.join(x['genres']) if isinstance(x['genres'], list) else ''\n",
    "\n",
    "    return keywords + ' ' + cast + ' ' + director + ' ' + genres\n",
    "# Apply the 'create_soup' function to each row of the DataFrame and create a new 'soup' column\n",
    "file['soup'] = file.apply(create_soup, axis=1)"
   ]
  },
  {
   "cell_type": "code",
   "execution_count": 26,
   "id": "42b363b3",
   "metadata": {
    "executionInfo": {
     "elapsed": 321,
     "status": "ok",
     "timestamp": 1701794740303,
     "user": {
      "displayName": "Julián Andrés Prego",
      "userId": "00181364774626352870"
     },
     "user_tz": -60
    },
    "id": "e07f114d"
   },
   "outputs": [],
   "source": [
    "# Import CountVectorizer and create the count matrix\n",
    "from sklearn.feature_extraction.text import CountVectorizer\n",
    "count = CountVectorizer(stop_words='english')\n",
    "# Create the count matrix by fitting and transforming the 'soup' column\n",
    "count_matrix = count.fit_transform(file['soup'])"
   ]
  },
  {
   "cell_type": "code",
   "execution_count": 27,
   "id": "1f55b070",
   "metadata": {
    "executionInfo": {
     "elapsed": 1460,
     "status": "ok",
     "timestamp": 1701794743698,
     "user": {
      "displayName": "Julián Andrés Prego",
      "userId": "00181364774626352870"
     },
     "user_tz": -60
    },
    "id": "be92582b"
   },
   "outputs": [],
   "source": [
    "# Compute the Cosine Similarity matrix based on the count_matrix\n",
    "from sklearn.metrics.pairwise import cosine_similarity\n",
    "\n",
    "cosine_sim2 = cosine_similarity(count_matrix, count_matrix)"
   ]
  },
  {
   "cell_type": "code",
   "execution_count": 28,
   "id": "91483523",
   "metadata": {
    "colab": {
     "base_uri": "https://localhost:8080/"
    },
    "executionInfo": {
     "elapsed": 8,
     "status": "ok",
     "timestamp": 1701794747158,
     "user": {
      "displayName": "Julián Andrés Prego",
      "userId": "00181364774626352870"
     },
     "user_tz": -60
    },
    "id": "6ffcbcd5",
    "outputId": "6733e1fa-f569-4a18-939a-861a10e9a789"
   },
   "outputs": [
    {
     "name": "stdout",
     "output_type": "stream",
     "text": [
      "3\n"
     ]
    },
    {
     "data": {
      "text/plain": [
       "3          The Dark Knight Rises\n",
       "119                Batman Begins\n",
       "65               The Dark Knight\n",
       "4629    Amidst the Devil's Wings\n",
       "2792        The Killer Inside Me\n",
       "1196                The Prestige\n",
       "428               Batman Returns\n",
       "1359                      Batman\n",
       "210               Batman & Robin\n",
       "1720                    Kick-Ass\n",
       "Name: title_x, dtype: object"
      ]
     },
     "execution_count": 28,
     "metadata": {},
     "output_type": "execute_result"
    }
   ],
   "source": [
    "# Get movie recommendations using the cosine similarity matrix\n",
    "get_recommendations('The Dark Knight Rises',cosine_sim2)"
   ]
  },
  {
   "cell_type": "code",
   "execution_count": 29,
   "id": "7dc2488e",
   "metadata": {
    "colab": {
     "base_uri": "https://localhost:8080/"
    },
    "executionInfo": {
     "elapsed": 599,
     "status": "ok",
     "timestamp": 1701794749875,
     "user": {
      "displayName": "Julián Andrés Prego",
      "userId": "00181364774626352870"
     },
     "user_tz": -60
    },
    "id": "a6882a8a",
    "outputId": "f87fa2a7-5a55-42be-f5e5-5e42746ac5d1",
    "scrolled": true
   },
   "outputs": [
    {
     "name": "stdout",
     "output_type": "stream",
     "text": [
      "2530\n"
     ]
    },
    {
     "data": {
      "text/plain": [
       "2530               Beetlejuice\n",
       "2108       Edward Scissorhands\n",
       "428             Batman Returns\n",
       "1359                    Batman\n",
       "1293             Frankenweenie\n",
       "268              Stuart Little\n",
       "2868    For Your Consideration\n",
       "3366        Outside Providence\n",
       "3457              Best in Show\n",
       "42                 Toy Story 3\n",
       "Name: title_x, dtype: object"
      ]
     },
     "execution_count": 29,
     "metadata": {},
     "output_type": "execute_result"
    }
   ],
   "source": [
    "get_recommendations('Beetlejuice',cosine_sim2)"
   ]
  },
  {
   "cell_type": "markdown",
   "id": "ef83fccb",
   "metadata": {
    "id": "eaba9685"
   },
   "source": [
    "# TRYOUT"
   ]
  },
  {
   "cell_type": "markdown",
   "id": "3983324a",
   "metadata": {},
   "source": [
    "We are going to try our recommendation system."
   ]
  },
  {
   "cell_type": "code",
   "execution_count": 30,
   "id": "4f1206a4",
   "metadata": {
    "scrolled": true
   },
   "outputs": [
    {
     "name": "stdout",
     "output_type": "stream",
     "text": [
      "Type the title of a film you like: Best in Show\n"
     ]
    }
   ],
   "source": [
    "film=input(\"Type the title of a film you like: \")"
   ]
  },
  {
   "cell_type": "code",
   "execution_count": 31,
   "id": "02778172",
   "metadata": {
    "colab": {
     "base_uri": "https://localhost:8080/"
    },
    "executionInfo": {
     "elapsed": 373,
     "status": "ok",
     "timestamp": 1701795164196,
     "user": {
      "displayName": "Julián Andrés Prego",
      "userId": "00181364774626352870"
     },
     "user_tz": -60
    },
    "id": "c625f2a9",
    "outputId": "abd000ee-4a27-4d7c-d24c-5e0c671c74e0",
    "scrolled": true
   },
   "outputs": [
    {
     "name": "stdout",
     "output_type": "stream",
     "text": [
      "3457\n",
      "The most similar films according to the overview are: \n",
      " 3457             Best in Show\n",
      "4129                   Circle\n",
      "2891        Darling Companion\n",
      "3125           Beat the World\n",
      "725            The Shaggy Dog\n",
      "2718          Far from Heaven\n",
      "1348                    Aloha\n",
      "2286    House on Haunted Hill\n",
      "2410                Good Boy!\n",
      "522            Hotel for Dogs\n",
      "Name: title_x, dtype: object\n"
     ]
    }
   ],
   "source": [
    "recomendations=get_recommendations(film,l_kernel)\n",
    "print(\"The most similar films according to the overview are: \\n\",recomendations)"
   ]
  },
  {
   "cell_type": "markdown",
   "id": "07db5587",
   "metadata": {},
   "source": [
    "From the file dataframe, we extract the 10 instances we want, to then reorder them."
   ]
  },
  {
   "cell_type": "code",
   "execution_count": 32,
   "id": "de93ff8e",
   "metadata": {
    "colab": {
     "base_uri": "https://localhost:8080/",
     "height": 1000
    },
    "executionInfo": {
     "elapsed": 310,
     "status": "ok",
     "timestamp": 1701795167470,
     "user": {
      "displayName": "Julián Andrés Prego",
      "userId": "00181364774626352870"
     },
     "user_tz": -60
    },
    "id": "08269897",
    "outputId": "38927480-a375-4c5d-832d-3be80b02f4fa",
    "scrolled": true
   },
   "outputs": [],
   "source": [
    "mask=np.zeros(file.shape[0],dtype=\"bool\")\n",
    "for i in recomendations.index:\n",
    "    ind=file.loc[file.index == i].index[0]\n",
    "    mask[ind]=True\n",
    "new_file=file[mask]\n",
    "new_file=new_file.reset_index(drop=True)"
   ]
  },
  {
   "cell_type": "code",
   "execution_count": 33,
   "id": "b49a8f86",
   "metadata": {
    "scrolled": true
   },
   "outputs": [
    {
     "data": {
      "text/html": [
       "<div>\n",
       "<style scoped>\n",
       "    .dataframe tbody tr th:only-of-type {\n",
       "        vertical-align: middle;\n",
       "    }\n",
       "\n",
       "    .dataframe tbody tr th {\n",
       "        vertical-align: top;\n",
       "    }\n",
       "\n",
       "    .dataframe thead th {\n",
       "        text-align: right;\n",
       "    }\n",
       "</style>\n",
       "<table border=\"1\" class=\"dataframe\">\n",
       "  <thead>\n",
       "    <tr style=\"text-align: right;\">\n",
       "      <th></th>\n",
       "      <th>id</th>\n",
       "      <th>title_x</th>\n",
       "      <th>cast</th>\n",
       "      <th>crew</th>\n",
       "      <th>budget</th>\n",
       "      <th>genres</th>\n",
       "      <th>homepage</th>\n",
       "      <th>keywords</th>\n",
       "      <th>original_language</th>\n",
       "      <th>original_title</th>\n",
       "      <th>...</th>\n",
       "      <th>revenue</th>\n",
       "      <th>runtime</th>\n",
       "      <th>spoken_languages</th>\n",
       "      <th>status</th>\n",
       "      <th>tagline</th>\n",
       "      <th>title_y</th>\n",
       "      <th>vote_average</th>\n",
       "      <th>vote_count</th>\n",
       "      <th>director</th>\n",
       "      <th>soup</th>\n",
       "    </tr>\n",
       "  </thead>\n",
       "  <tbody>\n",
       "    <tr>\n",
       "      <th>0</th>\n",
       "      <td>15189</td>\n",
       "      <td>Hotel for Dogs</td>\n",
       "      <td>[Emma Roberts, Jake T. Austin, Don Cheadle, Jo...</td>\n",
       "      <td>[{'credit_id': '52fe46429251416c75072873', 'de...</td>\n",
       "      <td>35000000</td>\n",
       "      <td>[Comedy, Family]</td>\n",
       "      <td>NaN</td>\n",
       "      <td>[adoption, puppy, pitbull, orphan, foster home]</td>\n",
       "      <td>en</td>\n",
       "      <td>Hotel for Dogs</td>\n",
       "      <td>...</td>\n",
       "      <td>73034460</td>\n",
       "      <td>100.0</td>\n",
       "      <td>[{\"iso_639_1\": \"en\", \"name\": \"English\"}]</td>\n",
       "      <td>Released</td>\n",
       "      <td>No stray gets turned away.</td>\n",
       "      <td>Hotel for Dogs</td>\n",
       "      <td>5.7</td>\n",
       "      <td>202</td>\n",
       "      <td>Thor Freudenthal</td>\n",
       "      <td>adoption puppy pitbull orphan foster home Emma...</td>\n",
       "    </tr>\n",
       "    <tr>\n",
       "      <th>1</th>\n",
       "      <td>10067</td>\n",
       "      <td>The Shaggy Dog</td>\n",
       "      <td>[Tim Allen, Kristin Davis, Danny Glover, Spenc...</td>\n",
       "      <td>[{'credit_id': '52fe431a9251416c7500380d', 'de...</td>\n",
       "      <td>50000000</td>\n",
       "      <td>[Comedy, Family]</td>\n",
       "      <td>http://movies.disney.com/the-shaggy-dog-2006</td>\n",
       "      <td>[father son relationship, parents kids relatio...</td>\n",
       "      <td>en</td>\n",
       "      <td>The Shaggy Dog</td>\n",
       "      <td>...</td>\n",
       "      <td>61112916</td>\n",
       "      <td>98.0</td>\n",
       "      <td>[{\"iso_639_1\": \"en\", \"name\": \"English\"}]</td>\n",
       "      <td>Released</td>\n",
       "      <td>It's going to be a ruff day.</td>\n",
       "      <td>The Shaggy Dog</td>\n",
       "      <td>4.5</td>\n",
       "      <td>137</td>\n",
       "      <td>Brian Robbins</td>\n",
       "      <td>father son relationship parents kids relations...</td>\n",
       "    </tr>\n",
       "    <tr>\n",
       "      <th>2</th>\n",
       "      <td>222936</td>\n",
       "      <td>Aloha</td>\n",
       "      <td>[Bradley Cooper, Emma Stone, Rachel McAdams, B...</td>\n",
       "      <td>[{'credit_id': '55c56d18c3a3682f1c000b2a', 'de...</td>\n",
       "      <td>37000000</td>\n",
       "      <td>[Drama, Comedy, Romance]</td>\n",
       "      <td>NaN</td>\n",
       "      <td>[love triangle, hawaii, satellite, military, d...</td>\n",
       "      <td>en</td>\n",
       "      <td>Aloha</td>\n",
       "      <td>...</td>\n",
       "      <td>26250020</td>\n",
       "      <td>105.0</td>\n",
       "      <td>[{\"iso_639_1\": \"ru\", \"name\": \"P\\u0443\\u0441\\u0...</td>\n",
       "      <td>Released</td>\n",
       "      <td>Sometimes you have to say goodbye before you c...</td>\n",
       "      <td>Aloha</td>\n",
       "      <td>5.2</td>\n",
       "      <td>692</td>\n",
       "      <td>Cameron Crowe</td>\n",
       "      <td>love triangle hawaii satellite military during...</td>\n",
       "    </tr>\n",
       "    <tr>\n",
       "      <th>3</th>\n",
       "      <td>11377</td>\n",
       "      <td>House on Haunted Hill</td>\n",
       "      <td>[Geoffrey Rush, Famke Janssen, Taye Diggs, Pet...</td>\n",
       "      <td>[{'credit_id': '52fe44349251416c7502c6c3', 'de...</td>\n",
       "      <td>19000000</td>\n",
       "      <td>[Horror, Mystery, Thriller]</td>\n",
       "      <td>NaN</td>\n",
       "      <td>[lunatic asylum, aftercreditsstinger]</td>\n",
       "      <td>en</td>\n",
       "      <td>House on Haunted Hill</td>\n",
       "      <td>...</td>\n",
       "      <td>40846082</td>\n",
       "      <td>93.0</td>\n",
       "      <td>[{\"iso_639_1\": \"en\", \"name\": \"English\"}]</td>\n",
       "      <td>Released</td>\n",
       "      <td>Evil loves to party.</td>\n",
       "      <td>House on Haunted Hill</td>\n",
       "      <td>5.5</td>\n",
       "      <td>209</td>\n",
       "      <td>William Malone</td>\n",
       "      <td>lunatic asylum aftercreditsstinger Geoffrey Ru...</td>\n",
       "    </tr>\n",
       "    <tr>\n",
       "      <th>4</th>\n",
       "      <td>21765</td>\n",
       "      <td>Good Boy!</td>\n",
       "      <td>[Molly Shannon, Liam Aiken, Matthew Broderick,...</td>\n",
       "      <td>[{'credit_id': '55ac1f8992514125da0078dd', 'de...</td>\n",
       "      <td>17000000</td>\n",
       "      <td>[Comedy, Family, Science Fiction]</td>\n",
       "      <td>http://www.goodboy.com/</td>\n",
       "      <td>[]</td>\n",
       "      <td>en</td>\n",
       "      <td>Good Boy!</td>\n",
       "      <td>...</td>\n",
       "      <td>0</td>\n",
       "      <td>87.0</td>\n",
       "      <td>[{\"iso_639_1\": \"de\", \"name\": \"Deutsch\"}]</td>\n",
       "      <td>Released</td>\n",
       "      <td>Rover is about to take over.</td>\n",
       "      <td>Good Boy!</td>\n",
       "      <td>4.7</td>\n",
       "      <td>30</td>\n",
       "      <td>John Robert Hoffman</td>\n",
       "      <td>Molly Shannon Liam Aiken Matthew Broderick Do...</td>\n",
       "    </tr>\n",
       "    <tr>\n",
       "      <th>5</th>\n",
       "      <td>10712</td>\n",
       "      <td>Far from Heaven</td>\n",
       "      <td>[Julianne Moore, Dennis Quaid, Dennis Haysbert...</td>\n",
       "      <td>[{'credit_id': '52fe43a79251416c75018d35', 'de...</td>\n",
       "      <td>13500000</td>\n",
       "      <td>[Drama, Romance]</td>\n",
       "      <td>NaN</td>\n",
       "      <td>[black people, wife husband relationship, bota...</td>\n",
       "      <td>en</td>\n",
       "      <td>Far from Heaven</td>\n",
       "      <td>...</td>\n",
       "      <td>29027914</td>\n",
       "      <td>107.0</td>\n",
       "      <td>[{\"iso_639_1\": \"en\", \"name\": \"English\"}]</td>\n",
       "      <td>Released</td>\n",
       "      <td>It's time to stop hiding from the truth.</td>\n",
       "      <td>Far from Heaven</td>\n",
       "      <td>6.9</td>\n",
       "      <td>144</td>\n",
       "      <td>Todd Haynes</td>\n",
       "      <td>black people wife husband relationship botanis...</td>\n",
       "    </tr>\n",
       "    <tr>\n",
       "      <th>6</th>\n",
       "      <td>89325</td>\n",
       "      <td>Darling Companion</td>\n",
       "      <td>[Diane Keaton, Kevin Kline, Sam Shepard, Diann...</td>\n",
       "      <td>[{'credit_id': '52fe4a159251416c910c2953', 'de...</td>\n",
       "      <td>0</td>\n",
       "      <td>[Drama, Romance]</td>\n",
       "      <td>NaN</td>\n",
       "      <td>[aftercreditsstinger]</td>\n",
       "      <td>en</td>\n",
       "      <td>Darling Companion</td>\n",
       "      <td>...</td>\n",
       "      <td>0</td>\n",
       "      <td>103.0</td>\n",
       "      <td>[{\"iso_639_1\": \"en\", \"name\": \"English\"}]</td>\n",
       "      <td>Released</td>\n",
       "      <td>NaN</td>\n",
       "      <td>Darling Companion</td>\n",
       "      <td>5.3</td>\n",
       "      <td>22</td>\n",
       "      <td>Lawrence Kasdan</td>\n",
       "      <td>aftercreditsstinger Diane Keaton Kevin Kline S...</td>\n",
       "    </tr>\n",
       "    <tr>\n",
       "      <th>7</th>\n",
       "      <td>66767</td>\n",
       "      <td>Beat the World</td>\n",
       "      <td>[Tyrone Brown, Mishael Morgan, Nikki Grant, Ch...</td>\n",
       "      <td>[{'credit_id': '56124ed4c3a3682206002b56', 'de...</td>\n",
       "      <td>10000000</td>\n",
       "      <td>[Music, Drama]</td>\n",
       "      <td>NaN</td>\n",
       "      <td>[sporting event]</td>\n",
       "      <td>en</td>\n",
       "      <td>Beat the World</td>\n",
       "      <td>...</td>\n",
       "      <td>0</td>\n",
       "      <td>91.0</td>\n",
       "      <td>[{\"iso_639_1\": \"en\", \"name\": \"English\"}]</td>\n",
       "      <td>Released</td>\n",
       "      <td>Feel the beat, live the dream.</td>\n",
       "      <td>Beat the World</td>\n",
       "      <td>4.3</td>\n",
       "      <td>16</td>\n",
       "      <td>Robert Adetuyi</td>\n",
       "      <td>sporting event Tyrone Brown Mishael Morgan Nik...</td>\n",
       "    </tr>\n",
       "    <tr>\n",
       "      <th>8</th>\n",
       "      <td>13785</td>\n",
       "      <td>Best in Show</td>\n",
       "      <td>[Jay Brazeau, Parker Posey, Michael Hitchcock,...</td>\n",
       "      <td>[{'credit_id': '564a36039251414dcb0003c7', 'de...</td>\n",
       "      <td>0</td>\n",
       "      <td>[Comedy]</td>\n",
       "      <td>NaN</td>\n",
       "      <td>[illinois, pet shop, poodle, independent film,...</td>\n",
       "      <td>en</td>\n",
       "      <td>Best in Show</td>\n",
       "      <td>...</td>\n",
       "      <td>0</td>\n",
       "      <td>90.0</td>\n",
       "      <td>[{\"iso_639_1\": \"en\", \"name\": \"English\"}]</td>\n",
       "      <td>Released</td>\n",
       "      <td>Some pets deserve a little more respect than o...</td>\n",
       "      <td>Best in Show</td>\n",
       "      <td>6.7</td>\n",
       "      <td>166</td>\n",
       "      <td>Christopher Guest</td>\n",
       "      <td>illinois pet shop poodle independent film mock...</td>\n",
       "    </tr>\n",
       "    <tr>\n",
       "      <th>9</th>\n",
       "      <td>335866</td>\n",
       "      <td>Circle</td>\n",
       "      <td>[Julie Benz, Carter Jenkins, Cesar Garcia, Mer...</td>\n",
       "      <td>[{'credit_id': '552e6f9292514103ce007142', 'de...</td>\n",
       "      <td>0</td>\n",
       "      <td>[Horror, Science Fiction]</td>\n",
       "      <td>NaN</td>\n",
       "      <td>[survival, execution, stranger, no memory]</td>\n",
       "      <td>en</td>\n",
       "      <td>Circle</td>\n",
       "      <td>...</td>\n",
       "      <td>0</td>\n",
       "      <td>87.0</td>\n",
       "      <td>[{\"iso_639_1\": \"en\", \"name\": \"English\"}]</td>\n",
       "      <td>Released</td>\n",
       "      <td>In here… everything gets you killed.</td>\n",
       "      <td>Circle</td>\n",
       "      <td>6.0</td>\n",
       "      <td>333</td>\n",
       "      <td>Aaron Hann</td>\n",
       "      <td>survival execution stranger no memory Julie Be...</td>\n",
       "    </tr>\n",
       "  </tbody>\n",
       "</table>\n",
       "<p>10 rows × 25 columns</p>\n",
       "</div>"
      ],
      "text/plain": [
       "       id                title_x  \\\n",
       "0   15189         Hotel for Dogs   \n",
       "1   10067         The Shaggy Dog   \n",
       "2  222936                  Aloha   \n",
       "3   11377  House on Haunted Hill   \n",
       "4   21765              Good Boy!   \n",
       "5   10712        Far from Heaven   \n",
       "6   89325      Darling Companion   \n",
       "7   66767         Beat the World   \n",
       "8   13785           Best in Show   \n",
       "9  335866                 Circle   \n",
       "\n",
       "                                                cast  \\\n",
       "0  [Emma Roberts, Jake T. Austin, Don Cheadle, Jo...   \n",
       "1  [Tim Allen, Kristin Davis, Danny Glover, Spenc...   \n",
       "2  [Bradley Cooper, Emma Stone, Rachel McAdams, B...   \n",
       "3  [Geoffrey Rush, Famke Janssen, Taye Diggs, Pet...   \n",
       "4  [Molly Shannon, Liam Aiken, Matthew Broderick,...   \n",
       "5  [Julianne Moore, Dennis Quaid, Dennis Haysbert...   \n",
       "6  [Diane Keaton, Kevin Kline, Sam Shepard, Diann...   \n",
       "7  [Tyrone Brown, Mishael Morgan, Nikki Grant, Ch...   \n",
       "8  [Jay Brazeau, Parker Posey, Michael Hitchcock,...   \n",
       "9  [Julie Benz, Carter Jenkins, Cesar Garcia, Mer...   \n",
       "\n",
       "                                                crew    budget  \\\n",
       "0  [{'credit_id': '52fe46429251416c75072873', 'de...  35000000   \n",
       "1  [{'credit_id': '52fe431a9251416c7500380d', 'de...  50000000   \n",
       "2  [{'credit_id': '55c56d18c3a3682f1c000b2a', 'de...  37000000   \n",
       "3  [{'credit_id': '52fe44349251416c7502c6c3', 'de...  19000000   \n",
       "4  [{'credit_id': '55ac1f8992514125da0078dd', 'de...  17000000   \n",
       "5  [{'credit_id': '52fe43a79251416c75018d35', 'de...  13500000   \n",
       "6  [{'credit_id': '52fe4a159251416c910c2953', 'de...         0   \n",
       "7  [{'credit_id': '56124ed4c3a3682206002b56', 'de...  10000000   \n",
       "8  [{'credit_id': '564a36039251414dcb0003c7', 'de...         0   \n",
       "9  [{'credit_id': '552e6f9292514103ce007142', 'de...         0   \n",
       "\n",
       "                              genres  \\\n",
       "0                   [Comedy, Family]   \n",
       "1                   [Comedy, Family]   \n",
       "2           [Drama, Comedy, Romance]   \n",
       "3        [Horror, Mystery, Thriller]   \n",
       "4  [Comedy, Family, Science Fiction]   \n",
       "5                   [Drama, Romance]   \n",
       "6                   [Drama, Romance]   \n",
       "7                     [Music, Drama]   \n",
       "8                           [Comedy]   \n",
       "9          [Horror, Science Fiction]   \n",
       "\n",
       "                                       homepage  \\\n",
       "0                                           NaN   \n",
       "1  http://movies.disney.com/the-shaggy-dog-2006   \n",
       "2                                           NaN   \n",
       "3                                           NaN   \n",
       "4                       http://www.goodboy.com/   \n",
       "5                                           NaN   \n",
       "6                                           NaN   \n",
       "7                                           NaN   \n",
       "8                                           NaN   \n",
       "9                                           NaN   \n",
       "\n",
       "                                            keywords original_language  \\\n",
       "0    [adoption, puppy, pitbull, orphan, foster home]                en   \n",
       "1  [father son relationship, parents kids relatio...                en   \n",
       "2  [love triangle, hawaii, satellite, military, d...                en   \n",
       "3              [lunatic asylum, aftercreditsstinger]                en   \n",
       "4                                                 []                en   \n",
       "5  [black people, wife husband relationship, bota...                en   \n",
       "6                              [aftercreditsstinger]                en   \n",
       "7                                   [sporting event]                en   \n",
       "8  [illinois, pet shop, poodle, independent film,...                en   \n",
       "9         [survival, execution, stranger, no memory]                en   \n",
       "\n",
       "          original_title  ...   revenue  runtime  \\\n",
       "0         Hotel for Dogs  ...  73034460    100.0   \n",
       "1         The Shaggy Dog  ...  61112916     98.0   \n",
       "2                  Aloha  ...  26250020    105.0   \n",
       "3  House on Haunted Hill  ...  40846082     93.0   \n",
       "4              Good Boy!  ...         0     87.0   \n",
       "5        Far from Heaven  ...  29027914    107.0   \n",
       "6      Darling Companion  ...         0    103.0   \n",
       "7         Beat the World  ...         0     91.0   \n",
       "8           Best in Show  ...         0     90.0   \n",
       "9                 Circle  ...         0     87.0   \n",
       "\n",
       "                                    spoken_languages    status  \\\n",
       "0           [{\"iso_639_1\": \"en\", \"name\": \"English\"}]  Released   \n",
       "1           [{\"iso_639_1\": \"en\", \"name\": \"English\"}]  Released   \n",
       "2  [{\"iso_639_1\": \"ru\", \"name\": \"P\\u0443\\u0441\\u0...  Released   \n",
       "3           [{\"iso_639_1\": \"en\", \"name\": \"English\"}]  Released   \n",
       "4           [{\"iso_639_1\": \"de\", \"name\": \"Deutsch\"}]  Released   \n",
       "5           [{\"iso_639_1\": \"en\", \"name\": \"English\"}]  Released   \n",
       "6           [{\"iso_639_1\": \"en\", \"name\": \"English\"}]  Released   \n",
       "7           [{\"iso_639_1\": \"en\", \"name\": \"English\"}]  Released   \n",
       "8           [{\"iso_639_1\": \"en\", \"name\": \"English\"}]  Released   \n",
       "9           [{\"iso_639_1\": \"en\", \"name\": \"English\"}]  Released   \n",
       "\n",
       "                                             tagline                title_y  \\\n",
       "0                         No stray gets turned away.         Hotel for Dogs   \n",
       "1                       It's going to be a ruff day.         The Shaggy Dog   \n",
       "2  Sometimes you have to say goodbye before you c...                  Aloha   \n",
       "3                               Evil loves to party.  House on Haunted Hill   \n",
       "4                       Rover is about to take over.              Good Boy!   \n",
       "5           It's time to stop hiding from the truth.        Far from Heaven   \n",
       "6                                                NaN      Darling Companion   \n",
       "7                     Feel the beat, live the dream.         Beat the World   \n",
       "8  Some pets deserve a little more respect than o...           Best in Show   \n",
       "9               In here… everything gets you killed.                 Circle   \n",
       "\n",
       "   vote_average vote_count             director  \\\n",
       "0           5.7        202     Thor Freudenthal   \n",
       "1           4.5        137        Brian Robbins   \n",
       "2           5.2        692        Cameron Crowe   \n",
       "3           5.5        209       William Malone   \n",
       "4           4.7         30  John Robert Hoffman   \n",
       "5           6.9        144          Todd Haynes   \n",
       "6           5.3         22      Lawrence Kasdan   \n",
       "7           4.3         16       Robert Adetuyi   \n",
       "8           6.7        166    Christopher Guest   \n",
       "9           6.0        333           Aaron Hann   \n",
       "\n",
       "                                                soup  \n",
       "0  adoption puppy pitbull orphan foster home Emma...  \n",
       "1  father son relationship parents kids relations...  \n",
       "2  love triangle hawaii satellite military during...  \n",
       "3  lunatic asylum aftercreditsstinger Geoffrey Ru...  \n",
       "4   Molly Shannon Liam Aiken Matthew Broderick Do...  \n",
       "5  black people wife husband relationship botanis...  \n",
       "6  aftercreditsstinger Diane Keaton Kevin Kline S...  \n",
       "7  sporting event Tyrone Brown Mishael Morgan Nik...  \n",
       "8  illinois pet shop poodle independent film mock...  \n",
       "9  survival execution stranger no memory Julie Be...  \n",
       "\n",
       "[10 rows x 25 columns]"
      ]
     },
     "execution_count": 33,
     "metadata": {},
     "output_type": "execute_result"
    }
   ],
   "source": [
    "new_file"
   ]
  },
  {
   "cell_type": "markdown",
   "id": "2d61a5f6",
   "metadata": {
    "id": "5689be76"
   },
   "source": [
    "\n",
    "\n",
    "Now we reorder the films according to the column \"soap\" created before"
   ]
  },
  {
   "cell_type": "code",
   "execution_count": 34,
   "id": "396f9195",
   "metadata": {},
   "outputs": [],
   "source": [
    "count = CountVectorizer(stop_words='english')\n",
    "# Create the count matrix by fitting and transforming the 'soup' column\n",
    "count_matrix = count.fit_transform(new_file['soup'])"
   ]
  },
  {
   "cell_type": "code",
   "execution_count": 35,
   "id": "fbd904ea",
   "metadata": {},
   "outputs": [],
   "source": [
    "cosine_sim = cosine_similarity(count_matrix, count_matrix)"
   ]
  },
  {
   "cell_type": "code",
   "execution_count": 36,
   "id": "e980b38f",
   "metadata": {
    "scrolled": false
   },
   "outputs": [
    {
     "name": "stdout",
     "output_type": "stream",
     "text": [
      "8\n"
     ]
    },
    {
     "data": {
      "text/plain": [
       "8             Best in Show\n",
       "4                Good Boy!\n",
       "0           Hotel for Dogs\n",
       "2                    Aloha\n",
       "1           The Shaggy Dog\n",
       "3    House on Haunted Hill\n",
       "5          Far from Heaven\n",
       "6        Darling Companion\n",
       "7           Beat the World\n",
       "9                   Circle\n",
       "Name: title_x, dtype: object"
      ]
     },
     "execution_count": 36,
     "metadata": {},
     "output_type": "execute_result"
    }
   ],
   "source": [
    "# Get movie recommendations using the cosine similarity matrix\n",
    "get_recommendations(film,cosine_sim,new_file)"
   ]
  }
 ],
 "metadata": {
  "colab": {
   "provenance": []
  },
  "kernelspec": {
   "display_name": "Python 3 (ipykernel)",
   "language": "python",
   "name": "python3"
  },
  "language_info": {
   "codemirror_mode": {
    "name": "ipython",
    "version": 3
   },
   "file_extension": ".py",
   "mimetype": "text/x-python",
   "name": "python",
   "nbconvert_exporter": "python",
   "pygments_lexer": "ipython3",
   "version": "3.9.13"
  }
 },
 "nbformat": 4,
 "nbformat_minor": 5
}
